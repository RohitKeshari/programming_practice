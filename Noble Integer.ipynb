{
 "cells": [
  {
   "cell_type": "markdown",
   "metadata": {},
   "source": [
    "Noble integers"
   ]
  },
  {
   "cell_type": "code",
   "execution_count": null,
   "metadata": {
    "collapsed": true
   },
   "outputs": [],
   "source": [
    "# Returns a Noble integer if \n",
    "# present, else returns -1. \n",
    "def nobleInteger(arr, size): \n",
    "  \n",
    "    for i in range(0, size): \n",
    "      \n",
    "        count = 0\n",
    "        for j in range(0, size): \n",
    "            if (arr[i] < arr[j]): \n",
    "                count += 1\n",
    "        # If count of greater  \n",
    "        # elements is equal \n",
    "        # to arr[i] \n",
    "        if (count == arr[i]): \n",
    "            return arr[i] \n",
    "      \n",
    "    return -1\n",
    "  \n",
    "# Driver code \n",
    "arr = [10, 3, 20, 40, 2] \n",
    "size = len(arr) \n",
    "res = nobleInteger(arr,size) \n",
    "if (res != -1):  \n",
    "    print(\"The noble integer is \", \n",
    "                              res) \n",
    "else: \n",
    "    print(\"No Noble Integer Found\") "
   ]
  },
  {
   "cell_type": "code",
   "execution_count": null,
   "metadata": {
    "collapsed": true
   },
   "outputs": [],
   "source": []
  },
  {
   "cell_type": "code",
   "execution_count": 1,
   "metadata": {},
   "outputs": [
    {
     "name": "stdout",
     "output_type": "stream",
     "text": [
      "('The noble integer is', 3)\n"
     ]
    }
   ],
   "source": [
    "def nobleInteger(arr): \n",
    "      \n",
    "    arr.sort() \n",
    "      \n",
    "    # Return a Noble element if  \n",
    "    # present before last \n",
    "    n = len(arr) \n",
    "      \n",
    "    for i in range(n - 1): \n",
    "          \n",
    "        if arr[i] == arr[i + 1]: \n",
    "            continue\n",
    "              \n",
    "        # In case of duplicates we reach \n",
    "        # last occurence here \n",
    "        if arr[i] == n - i - 1: #### impportant condition\n",
    "            return arr[i] \n",
    "      \n",
    "    if arr[n - 1] == 0: \n",
    "        return arr[n - 1] \n",
    "    return -1\n",
    "  \n",
    "# Driver code \n",
    "arr = [10, 3, 20, 40, 2] \n",
    "  \n",
    "res = nobleInteger(arr) \n",
    "  \n",
    "if res != -1: \n",
    "    print(\"The noble integer is\", res) \n",
    "else: \n",
    "    print(\"No Noble Intger Found\") "
   ]
  },
  {
   "cell_type": "code",
   "execution_count": null,
   "metadata": {
    "collapsed": true
   },
   "outputs": [],
   "source": []
  }
 ],
 "metadata": {
  "kernelspec": {
   "display_name": "Python 2",
   "language": "python",
   "name": "python2"
  },
  "language_info": {
   "codemirror_mode": {
    "name": "ipython",
    "version": 2
   },
   "file_extension": ".py",
   "mimetype": "text/x-python",
   "name": "python",
   "nbconvert_exporter": "python",
   "pygments_lexer": "ipython2",
   "version": "2.7.16"
  }
 },
 "nbformat": 4,
 "nbformat_minor": 2
}
