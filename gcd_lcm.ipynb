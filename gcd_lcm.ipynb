{
 "cells": [
  {
   "cell_type": "markdown",
   "metadata": {},
   "source": [
    "HCF: highest common factor or GCD: gratest commmon devisor"
   ]
  },
  {
   "cell_type": "code",
   "execution_count": 15,
   "metadata": {},
   "outputs": [
    {
     "name": "stdout",
     "output_type": "stream",
     "text": [
      "3\n",
      "10\n"
     ]
    }
   ],
   "source": [
    "def gcd(a, b): \n",
    "    if (a == 0): \n",
    "        return b; \n",
    "    return gcd(b % a, a); \n",
    "\n",
    "print gcd(9, 12)\n",
    "print 10%20\n",
    "    "
   ]
  },
  {
   "cell_type": "code",
   "execution_count": 16,
   "metadata": {},
   "outputs": [
    {
     "name": "stdout",
     "output_type": "stream",
     "text": [
      "3\n"
     ]
    }
   ],
   "source": [
    "def gcd(a, b): \n",
    "   \n",
    "    # Everything divides 0  \n",
    "    if (a == 0):  \n",
    "        return b;  \n",
    "    if (b == 0):  \n",
    "        return a;  \n",
    "      \n",
    "    # base case  \n",
    "    if (a == b):  \n",
    "        return a;  \n",
    "      \n",
    "    # a is greater  \n",
    "    if (a > b):  \n",
    "        return gcd(a - b, b);  \n",
    "    return gcd(a, b - a);  \n",
    "\n",
    "print gcd(9, 12)\n"
   ]
  },
  {
   "cell_type": "markdown",
   "metadata": {},
   "source": [
    "Number1 * Number2 = L.C.M. * G.C.D."
   ]
  },
  {
   "cell_type": "code",
   "execution_count": 18,
   "metadata": {},
   "outputs": [
    {
     "name": "stdout",
     "output_type": "stream",
     "text": [
      "18\n"
     ]
    }
   ],
   "source": [
    "def LCM(a, b): \n",
    "  \n",
    "    lcm= a*b//gcd(a,b)\n",
    "    return lcm\n",
    "\n",
    "print LCM(9,6)"
   ]
  },
  {
   "cell_type": "markdown",
   "metadata": {},
   "source": [
    "another implementation of LCM"
   ]
  },
  {
   "cell_type": "code",
   "execution_count": 20,
   "metadata": {},
   "outputs": [
    {
     "name": "stdout",
     "output_type": "stream",
     "text": [
      "18\n"
     ]
    }
   ],
   "source": [
    "def compute_lcm(x, y):\n",
    "   # choose the greater number\n",
    "   if x > y:\n",
    "       greater = x\n",
    "   else:\n",
    "       greater = y\n",
    "   while(True):\n",
    "       if((greater % x == 0) and (greater % y == 0)):\n",
    "           lcm = greater\n",
    "           break\n",
    "       greater += 1\n",
    "   return lcm\n",
    "\n",
    "print compute_lcm(9,6)"
   ]
  },
  {
   "cell_type": "markdown",
   "metadata": {},
   "source": [
    "Given two numbers M and N, P is from [M,N] and Q is from [1,P-1]. Find all irreducible fraction of P/Q"
   ]
  },
  {
   "cell_type": "code",
   "execution_count": 23,
   "metadata": {},
   "outputs": [
    {
     "name": "stdout",
     "output_type": "stream",
     "text": [
      "[(10, 1), (10, 3), (10, 7), (11, 1), (11, 2), (11, 3), (11, 4), (11, 5), (11, 6), (11, 7), (11, 8), (11, 9), (12, 1), (12, 5), (12, 7), (13, 1), (13, 2), (13, 3), (13, 4), (13, 5), (13, 6), (13, 7), (13, 8), (13, 9), (13, 10), (13, 11), (14, 1), (14, 3), (14, 5), (14, 9), (14, 11), (15, 1), (15, 2), (15, 4), (15, 7), (15, 8), (15, 11), (15, 13), (16, 1), (16, 3), (16, 5), (16, 7), (16, 9), (16, 11), (16, 13), (17, 1), (17, 2), (17, 3), (17, 4), (17, 5), (17, 6), (17, 7), (17, 8), (17, 9), (17, 10), (17, 11), (17, 12), (17, 13), (17, 14), (17, 15), (18, 1), (18, 5), (18, 7), (18, 11), (18, 13), (19, 1), (19, 2), (19, 3), (19, 4), (19, 5), (19, 6), (19, 7), (19, 8), (19, 9), (19, 10), (19, 11), (19, 12), (19, 13), (19, 14), (19, 15), (19, 16), (19, 17)]\n"
     ]
    }
   ],
   "source": [
    "M=10\n",
    "N=20\n",
    "ans=[(p,q) for p in range(M,N) for q in range(1,p-1) if gcd(p,q) == 1]\n",
    "print ans"
   ]
  },
  {
   "cell_type": "code",
   "execution_count": null,
   "metadata": {
    "collapsed": true
   },
   "outputs": [],
   "source": []
  }
 ],
 "metadata": {
  "kernelspec": {
   "display_name": "Python 2",
   "language": "python",
   "name": "python2"
  },
  "language_info": {
   "codemirror_mode": {
    "name": "ipython",
    "version": 2
   },
   "file_extension": ".py",
   "mimetype": "text/x-python",
   "name": "python",
   "nbconvert_exporter": "python",
   "pygments_lexer": "ipython2",
   "version": "2.7.16"
  }
 },
 "nbformat": 4,
 "nbformat_minor": 2
}
