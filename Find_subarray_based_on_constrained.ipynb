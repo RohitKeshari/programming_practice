{
  "nbformat": 4,
  "nbformat_minor": 0,
  "metadata": {
    "kernelspec": {
      "display_name": "Python 2",
      "language": "python",
      "name": "python2"
    },
    "language_info": {
      "codemirror_mode": {
        "name": "ipython",
        "version": 2
      },
      "file_extension": ".py",
      "mimetype": "text/x-python",
      "name": "python",
      "nbconvert_exporter": "python",
      "pygments_lexer": "ipython2",
      "version": "2.7.16"
    },
    "colab": {
      "name": "Find_subarray_based_on_constrained.ipynb",
      "provenance": []
    }
  },
  "cells": [
    {
      "cell_type": "code",
      "metadata": {
        "id": "WxAH0nHRb9_Z",
        "colab_type": "code",
        "colab": {}
      },
      "source": [
        "s='BANANA'\n",
        "n=len(s)\n",
        "V = frozenset(\"AEIOU\")\n",
        "ksc = sum(q for c, q in zip(s, range(n, 0, -1)) if c in V)\n",
        "ssc = n * (n + 1) // 2 - ksc"
      ],
      "execution_count": 0,
      "outputs": []
    },
    {
      "cell_type": "code",
      "metadata": {
        "id": "bg8clQkxb9_i",
        "colab_type": "code",
        "colab": {},
        "outputId": "6bb33d43-7526-4b42-f838-ceac5dfca7c0"
      },
      "source": [
        "print ksc, ssc"
      ],
      "execution_count": 0,
      "outputs": [
        {
          "output_type": "stream",
          "text": [
            "9 12\n"
          ],
          "name": "stdout"
        }
      ]
    },
    {
      "cell_type": "code",
      "metadata": {
        "id": "6zHwjwKGb9_p",
        "colab_type": "code",
        "colab": {},
        "outputId": "ff4c53b5-b799-436f-a255-de239168eff8"
      },
      "source": [
        "for c, q in zip(s, range(n, 0, -1)):\n",
        "    print c, q"
      ],
      "execution_count": 0,
      "outputs": [
        {
          "output_type": "stream",
          "text": [
            "B 8\n",
            "A 7\n",
            "N 6\n",
            "A 5\n",
            "N 4\n",
            "A 3\n",
            "A 2\n",
            "E 1\n"
          ],
          "name": "stdout"
        }
      ]
    },
    {
      "cell_type": "code",
      "metadata": {
        "id": "tBVF3-Ecb9_u",
        "colab_type": "code",
        "colab": {},
        "outputId": "e303ec39-a78c-4096-bd56-948b5ad831a4"
      },
      "source": [
        "unique('aa')"
      ],
      "execution_count": 0,
      "outputs": [
        {
          "output_type": "error",
          "ename": "NameError",
          "evalue": "name 'unique' is not defined",
          "traceback": [
            "\u001b[0;31m---------------------------------------------------------------------------\u001b[0m",
            "\u001b[0;31mNameError\u001b[0m                                 Traceback (most recent call last)",
            "\u001b[0;32m<ipython-input-18-f701299bbb2a>\u001b[0m in \u001b[0;36m<module>\u001b[0;34m()\u001b[0m\n\u001b[0;32m----> 1\u001b[0;31m \u001b[0munique\u001b[0m\u001b[0;34m(\u001b[0m\u001b[0;34m'aa'\u001b[0m\u001b[0;34m)\u001b[0m\u001b[0;34m\u001b[0m\u001b[0m\n\u001b[0m",
            "\u001b[0;31mNameError\u001b[0m: name 'unique' is not defined"
          ]
        }
      ]
    },
    {
      "cell_type": "code",
      "metadata": {
        "id": "cT4PTJ65b9_y",
        "colab_type": "code",
        "colab": {}
      },
      "source": [
        "from collections import OrderedDict \n",
        "str='AABXXDWWR'\n",
        "print \"\".join(set(str))\n",
        "print OrderedDict.fromkeys(str)"
      ],
      "execution_count": 0,
      "outputs": []
    },
    {
      "cell_type": "code",
      "metadata": {
        "id": "1i2tuIdyb9_2",
        "colab_type": "code",
        "colab": {}
      },
      "source": [
        "a='AABXXDWWR'"
      ],
      "execution_count": 0,
      "outputs": []
    },
    {
      "cell_type": "code",
      "metadata": {
        "id": "0qFrRGzXb9_5",
        "colab_type": "code",
        "colab": {},
        "outputId": "1f408ee3-ed94-4ae3-dc06-c59ac8611e1e"
      },
      "source": [
        "a[0]"
      ],
      "execution_count": 0,
      "outputs": [
        {
          "output_type": "execute_result",
          "data": {
            "text/plain": [
              "'A'"
            ]
          },
          "metadata": {
            "tags": []
          },
          "execution_count": 24
        }
      ]
    },
    {
      "cell_type": "code",
      "metadata": {
        "id": "V0L3k_Vbb9_-",
        "colab_type": "code",
        "colab": {}
      },
      "source": [
        "from collections import OrderedDict\n",
        "def removeDupWithOrder(str): \n",
        "    return \"\".join(OrderedDict.fromkeys(str)) "
      ],
      "execution_count": 0,
      "outputs": []
    },
    {
      "cell_type": "code",
      "metadata": {
        "id": "vALS3Erpb-AB",
        "colab_type": "code",
        "colab": {},
        "outputId": "038c5667-035d-4676-d7bb-a70d069069d9"
      },
      "source": [
        "from collections import OrderedDict \n",
        "  \n",
        "# Function to remove all duplicates from string \n",
        "# and order does not matter \n",
        "def removeDupWithoutOrder(str): \n",
        "   \n",
        "    # set() --> A Set is an unordered collection  \n",
        "    #            data type that is iterable, mutable,  \n",
        "    #            and has no duplicate elements. \n",
        "    # \"\".join() --> It joins two adjacent elements in \n",
        "    #               iterable with any symbol defined in  \n",
        "    #               \"\" ( double quotes ) and returns a  \n",
        "    #               single string \n",
        "    return \"\".join(set(str)) \n",
        "  \n",
        "# Function to remove all duplicates from string  \n",
        "# and keep the order of characters same \n",
        "def removeDupWithOrder(str): \n",
        "    return \"\".join(OrderedDict.fromkeys(str))  \n",
        "  \n",
        "# Driver program \n",
        "if __name__ == \"__main__\": \n",
        "    str = \"geeksforgeeks\"\n",
        "    print \"Without Order = \",removeDupWithoutOrder(str) \n",
        "    print \"With Order = \",removeDupWithOrder(str) "
      ],
      "execution_count": 0,
      "outputs": [
        {
          "output_type": "stream",
          "text": [
            "Without Order =  egfkosr\n",
            "With Order =  geksfor\n"
          ],
          "name": "stdout"
        }
      ]
    },
    {
      "cell_type": "code",
      "metadata": {
        "id": "xXXZ2wRAb-AE",
        "colab_type": "code",
        "colab": {},
        "outputId": "a5859ea4-56a1-4f3e-f540-a7bb7c335e14"
      },
      "source": [
        "l=[]\n",
        "eval(\"l.\"+\"insert(0,5)\")\n",
        "eval(\"l.\"+\"insert(3,10)\")\n",
        "print(l)"
      ],
      "execution_count": 0,
      "outputs": [
        {
          "output_type": "stream",
          "text": [
            "[5, 10]\n"
          ],
          "name": "stdout"
        }
      ]
    },
    {
      "cell_type": "code",
      "metadata": {
        "id": "u7DpNX07b-AI",
        "colab_type": "code",
        "colab": {},
        "outputId": "4e16a901-0e2a-4922-998b-37a655391197"
      },
      "source": [
        "print(tuple([1,2,1]))"
      ],
      "execution_count": 0,
      "outputs": [
        {
          "output_type": "stream",
          "text": [
            "(1, 2, 1)\n"
          ],
          "name": "stdout"
        }
      ]
    },
    {
      "cell_type": "code",
      "metadata": {
        "id": "8SEKA44Wb-AM",
        "colab_type": "code",
        "colab": {},
        "outputId": "66d3a927-a58d-46a1-9eaa-e03d853a39c0"
      },
      "source": [
        "print(hash((1,2,3,5)))"
      ],
      "execution_count": 0,
      "outputs": [
        {
          "output_type": "stream",
          "text": [
            "485696759011399484\n"
          ],
          "name": "stdout"
        }
      ]
    },
    {
      "cell_type": "code",
      "metadata": {
        "id": "mZOQ5jEbb-AP",
        "colab_type": "code",
        "colab": {},
        "outputId": "1e15161e-05ec-4f92-ce9c-33765bd45dac"
      },
      "source": [
        "a=['1','2','3']\n",
        "b=[int(s) for s in a]\n",
        "print b"
      ],
      "execution_count": 0,
      "outputs": [
        {
          "output_type": "stream",
          "text": [
            "[1, 2, 3]\n"
          ],
          "name": "stdout"
        }
      ]
    },
    {
      "cell_type": "code",
      "metadata": {
        "id": "yhgmZu9Eb-AS",
        "colab_type": "code",
        "colab": {}
      },
      "source": [
        ""
      ],
      "execution_count": 0,
      "outputs": []
    }
  ]
}