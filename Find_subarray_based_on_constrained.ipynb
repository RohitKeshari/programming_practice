{
 "cells": [
  {
   "cell_type": "code",
   "execution_count": 16,
   "metadata": {
    "collapsed": true
   },
   "outputs": [],
   "source": [
    "s='BANANA'\n",
    "n=len(s)\n",
    "V = frozenset(\"AEIOU\")\n",
    "ksc = sum(q for c, q in zip(s, range(n, 0, -1)) if c in V)\n",
    "ssc = n * (n + 1) // 2 - ksc"
   ]
  },
  {
   "cell_type": "code",
   "execution_count": 17,
   "metadata": {},
   "outputs": [
    {
     "name": "stdout",
     "output_type": "stream",
     "text": [
      "9 12\n"
     ]
    }
   ],
   "source": [
    "print ksc, ssc"
   ]
  },
  {
   "cell_type": "code",
   "execution_count": 12,
   "metadata": {},
   "outputs": [
    {
     "name": "stdout",
     "output_type": "stream",
     "text": [
      "B 8\n",
      "A 7\n",
      "N 6\n",
      "A 5\n",
      "N 4\n",
      "A 3\n",
      "A 2\n",
      "E 1\n"
     ]
    }
   ],
   "source": [
    "for c, q in zip(s, range(n, 0, -1)):\n",
    "    print c, q"
   ]
  },
  {
   "cell_type": "code",
   "execution_count": 18,
   "metadata": {},
   "outputs": [
    {
     "ename": "NameError",
     "evalue": "name 'unique' is not defined",
     "output_type": "error",
     "traceback": [
      "\u001b[0;31m---------------------------------------------------------------------------\u001b[0m",
      "\u001b[0;31mNameError\u001b[0m                                 Traceback (most recent call last)",
      "\u001b[0;32m<ipython-input-18-f701299bbb2a>\u001b[0m in \u001b[0;36m<module>\u001b[0;34m()\u001b[0m\n\u001b[0;32m----> 1\u001b[0;31m \u001b[0munique\u001b[0m\u001b[0;34m(\u001b[0m\u001b[0;34m'aa'\u001b[0m\u001b[0;34m)\u001b[0m\u001b[0;34m\u001b[0m\u001b[0m\n\u001b[0m",
      "\u001b[0;31mNameError\u001b[0m: name 'unique' is not defined"
     ]
    }
   ],
   "source": [
    "unique('aa')"
   ]
  },
  {
   "cell_type": "code",
   "execution_count": null,
   "metadata": {},
   "outputs": [],
   "source": [
    "from collections import OrderedDict \n",
    "str='AABXXDWWR'\n",
    "print \"\".join(set(str))\n",
    "print OrderedDict.fromkeys(str)"
   ]
  },
  {
   "cell_type": "code",
   "execution_count": 23,
   "metadata": {
    "collapsed": true
   },
   "outputs": [],
   "source": [
    "a='AABXXDWWR'"
   ]
  },
  {
   "cell_type": "code",
   "execution_count": 24,
   "metadata": {},
   "outputs": [
    {
     "data": {
      "text/plain": [
       "'A'"
      ]
     },
     "execution_count": 24,
     "metadata": {},
     "output_type": "execute_result"
    }
   ],
   "source": [
    "a[0]"
   ]
  },
  {
   "cell_type": "code",
   "execution_count": null,
   "metadata": {
    "collapsed": true
   },
   "outputs": [],
   "source": [
    "from collections import OrderedDict\n",
    "def removeDupWithOrder(str): \n",
    "    return \"\".join(OrderedDict.fromkeys(str)) "
   ]
  },
  {
   "cell_type": "code",
   "execution_count": 27,
   "metadata": {},
   "outputs": [
    {
     "name": "stdout",
     "output_type": "stream",
     "text": [
      "Without Order =  egfkosr\n",
      "With Order =  geksfor\n"
     ]
    }
   ],
   "source": [
    "from collections import OrderedDict \n",
    "  \n",
    "# Function to remove all duplicates from string \n",
    "# and order does not matter \n",
    "def removeDupWithoutOrder(str): \n",
    "   \n",
    "    # set() --> A Set is an unordered collection  \n",
    "    #            data type that is iterable, mutable,  \n",
    "    #            and has no duplicate elements. \n",
    "    # \"\".join() --> It joins two adjacent elements in \n",
    "    #               iterable with any symbol defined in  \n",
    "    #               \"\" ( double quotes ) and returns a  \n",
    "    #               single string \n",
    "    return \"\".join(set(str)) \n",
    "  \n",
    "# Function to remove all duplicates from string  \n",
    "# and keep the order of characters same \n",
    "def removeDupWithOrder(str): \n",
    "    return \"\".join(OrderedDict.fromkeys(str))  \n",
    "  \n",
    "# Driver program \n",
    "if __name__ == \"__main__\": \n",
    "    str = \"geeksforgeeks\"\n",
    "    print \"Without Order = \",removeDupWithoutOrder(str) \n",
    "    print \"With Order = \",removeDupWithOrder(str) "
   ]
  },
  {
   "cell_type": "code",
   "execution_count": 34,
   "metadata": {},
   "outputs": [
    {
     "name": "stdout",
     "output_type": "stream",
     "text": [
      "[5, 10]\n"
     ]
    }
   ],
   "source": [
    "l=[]\n",
    "eval(\"l.\"+\"insert(0,5)\")\n",
    "eval(\"l.\"+\"insert(3,10)\")\n",
    "print(l)"
   ]
  },
  {
   "cell_type": "code",
   "execution_count": 36,
   "metadata": {},
   "outputs": [
    {
     "name": "stdout",
     "output_type": "stream",
     "text": [
      "(1, 2, 1)\n"
     ]
    }
   ],
   "source": [
    "print(tuple([1,2,1]))"
   ]
  },
  {
   "cell_type": "code",
   "execution_count": 41,
   "metadata": {},
   "outputs": [
    {
     "name": "stdout",
     "output_type": "stream",
     "text": [
      "485696759011399484\n"
     ]
    }
   ],
   "source": [
    "print(hash((1,2,3,5)))"
   ]
  },
  {
   "cell_type": "code",
   "execution_count": 43,
   "metadata": {},
   "outputs": [
    {
     "name": "stdout",
     "output_type": "stream",
     "text": [
      "[1, 2, 3]\n"
     ]
    }
   ],
   "source": [
    "a=['1','2','3']\n",
    "b=[int(s) for s in a]\n",
    "print b"
   ]
  },
  {
   "cell_type": "code",
   "execution_count": null,
   "metadata": {
    "collapsed": true
   },
   "outputs": [],
   "source": []
  }
 ],
 "metadata": {
  "kernelspec": {
   "display_name": "Python 2",
   "language": "python",
   "name": "python2"
  },
  "language_info": {
   "codemirror_mode": {
    "name": "ipython",
    "version": 2
   },
   "file_extension": ".py",
   "mimetype": "text/x-python",
   "name": "python",
   "nbconvert_exporter": "python",
   "pygments_lexer": "ipython2",
   "version": "2.7.16"
  }
 },
 "nbformat": 4,
 "nbformat_minor": 2
}
