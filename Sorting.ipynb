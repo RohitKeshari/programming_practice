{
 "cells": [
  {
   "cell_type": "markdown",
   "metadata": {},
   "source": [
    "Internal Sort\n",
    "\n",
    "-Bubble Sort\n",
    "\n",
    "Selection Sort\n",
    "Insertion Sort\n",
    "Merge Sort\n",
    "Heap Sort\n",
    "QuickSort\n",
    "Radix Sort\n",
    "Counting Sort\n",
    "Bucket Sort\n",
    "ShellSort\n"
   ]
  },
  {
   "cell_type": "code",
   "execution_count": 3,
   "metadata": {},
   "outputs": [
    {
     "name": "stdout",
     "output_type": "stream",
     "text": [
      "[0, 1, 2, 2, 3, 5, 5, 8, 9, 10, 20, 50]\n"
     ]
    }
   ],
   "source": [
    "A=[3,5,0,2,9,10,50,2,1,5,8,20]\n",
    "\n",
    "\n",
    "for i in range(len(A)):\n",
    "    # Last i elements are already in place\n",
    "    for j in range(0,len(A)-i-1):\n",
    "        if A[j]>A[j+1]:\n",
    "            A[j], A[j+1] = A[j+1], A[j] \n",
    "print A"
   ]
  },
  {
   "cell_type": "markdown",
   "metadata": {},
   "source": [
    "Optimized Implementation:\n",
    "When list is sorted it should be stopped "
   ]
  },
  {
   "cell_type": "code",
   "execution_count": 14,
   "metadata": {},
   "outputs": [
    {
     "name": "stdout",
     "output_type": "stream",
     "text": [
      "[0, 1, 2, 2, 3, 5, 5, 8, 9, 10, 20, 50]\n"
     ]
    }
   ],
   "source": [
    "A=[3,5,0,2,9,10,50,2,1,5,8,20]\n",
    "\n",
    "\n",
    "for i in range(len(A)):\n",
    "    flag=False\n",
    "    # Last i elements are already in place\n",
    "    for j in range(0,len(A)-i-1):\n",
    "        if A[j]>A[j+1]:\n",
    "            A[j], A[j+1] = A[j+1], A[j] \n",
    "            flag=True\n",
    "    if flag==False:\n",
    "        break\n",
    "print A"
   ]
  },
  {
   "cell_type": "markdown",
   "metadata": {},
   "source": [
    "Selection Sort\n",
    "Find the minimum element in remaining unsorted array  \n"
   ]
  },
  {
   "cell_type": "code",
   "execution_count": 2,
   "metadata": {},
   "outputs": [
    {
     "name": "stdout",
     "output_type": "stream",
     "text": [
      "[0, 1, 2, 2, 3, 5, 5, 8, 9, 10, 20, 50]\n"
     ]
    }
   ],
   "source": [
    "A=[3,5,0,2,9,10,50,2,1,5,8,20]\n",
    "for i in range(len(A)): \n",
    "    min_idx = i \n",
    "    for j in range(i+1, len(A)): \n",
    "        if A[min_idx] > A[j]: \n",
    "            min_idx = j \n",
    "    A[i], A[min_idx] = A[min_idx], A[i] \n",
    "print A"
   ]
  },
  {
   "cell_type": "markdown",
   "metadata": {},
   "source": [
    "Insertion Sort"
   ]
  },
  {
   "cell_type": "code",
   "execution_count": null,
   "metadata": {
    "collapsed": true
   },
   "outputs": [],
   "source": [
    "A=[3,5,0,2,9,10,50,2,1,5,8,20]\n",
    "for i in range(1,len(A)): \n",
    "    key = A[i] \n",
    "    j=i-1\n",
    "    #for j in range(i+1, len(A)): \n",
    "    while j>=0 and key >A[j]: \n",
    "        A[j+1]=A[j]\n",
    "    A[j]=key\n",
    "    #A[i], A[min_idx] = A[min_idx], A[i] \n",
    "    \n",
    "print A"
   ]
  },
  {
   "cell_type": "markdown",
   "metadata": {
    "collapsed": true
   },
   "source": [
    "Merge Sort"
   ]
  },
  {
   "cell_type": "code",
   "execution_count": 15,
   "metadata": {},
   "outputs": [
    {
     "name": "stdout",
     "output_type": "stream",
     "text": [
      "[0, 1, 2, 2, 3, 5, 5, 8, 9, 10, 20, 50]\n"
     ]
    }
   ],
   "source": [
    "import numpy as np\n",
    "\n",
    "def merge(A,l,m,r):\n",
    "    n1=m-l+1\n",
    "    n2=r-m\n",
    "    # create temp arr\n",
    "    L=[0]*(n1)\n",
    "    R=[0]*(n2)\n",
    "    # copy data\n",
    "    for i in range(0,n1):\n",
    "        L[i]=A[l+i]\n",
    "    for j in range(0,n2):\n",
    "        R[j]=A[j+m+1]\n",
    "    \n",
    "    i=0\n",
    "    j=0\n",
    "    k=l\n",
    "    # merge the two array L and R in A\n",
    "    while i<n1 and j<n2:\n",
    "        if L[i]<=R[j]:\n",
    "            A[k]=L[i]\n",
    "            i+=1\n",
    "        else:\n",
    "             A[k]=R[j]\n",
    "             j+=1\n",
    "        k+=1\n",
    "    # remaining item\n",
    "    while i<n1:\n",
    "        A[k]=L[i]\n",
    "        k+=1\n",
    "        i+=1\n",
    "    while j<n2:\n",
    "        A[k]=R[j]\n",
    "        k+=1\n",
    "        j+=1\n",
    "        \n",
    "def mergeSort(A,l,r):\n",
    "    \n",
    "    if l<r:\n",
    "        #m=np.int(np.floor((l+r)/2))\n",
    "        m=(l+(r-1))/2\n",
    "        mergeSort(A,l,m)\n",
    "        mergeSort(A,m+1,r)\n",
    "        merge(A,l,m,r)\n",
    "    \n",
    "A=[3,5,0,2,9,10,50,2,1,5,8,20]\n",
    "n=len(A)\n",
    "mergeSort(A,0,n-1)\n",
    "print A\n",
    "    "
   ]
  },
  {
   "cell_type": "markdown",
   "metadata": {},
   "source": [
    "Heap Sort"
   ]
  },
  {
   "cell_type": "code",
   "execution_count": 18,
   "metadata": {},
   "outputs": [
    {
     "name": "stdout",
     "output_type": "stream",
     "text": [
      "[0, 1, 2, 2, 3, 5, 5, 8, 9, 10, 20, 50]\n"
     ]
    }
   ],
   "source": [
    "\n",
    "def heapify(arr,n,i):\n",
    "    l=2*i+1\n",
    "    r=2*i+2\n",
    "    largest=i\n",
    "    # if left is large\n",
    "    if l<n and arr[i]<arr[l]:\n",
    "        largest=l\n",
    "    # if Right is large\n",
    "    if r<n and arr[largest]<arr[r]:\n",
    "        largest=r\n",
    "    \n",
    "    # swap the root if needed\n",
    "    if largest!=i:\n",
    "        arr[i],arr[largest]=arr[largest],arr[i]\n",
    "        \n",
    "        # recursive call\n",
    "        heapify(arr,n,largest)\n",
    "\n",
    "def heapSort(arr):\n",
    "    n=len(arr)\n",
    "    \n",
    "    # build heap\n",
    "    for i in range(n,-1,-1):\n",
    "        heapify(arr,n,i)\n",
    "        \n",
    "    # sort by swapping root to last node\n",
    "    for i in range(n-1,0,-1):\n",
    "        arr[i],arr[0]=arr[0],arr[i]\n",
    "        heapify(arr,i,0)\n",
    "        \n",
    "A=[3,5,0,2,9,10,50,2,1,5,8,20]\n",
    "heapSort(A)\n",
    "print A"
   ]
  },
  {
   "cell_type": "code",
   "execution_count": null,
   "metadata": {
    "collapsed": true
   },
   "outputs": [],
   "source": []
  }
 ],
 "metadata": {
  "kernelspec": {
   "display_name": "Python 2",
   "language": "python",
   "name": "python2"
  }
 },
 "nbformat": 4,
 "nbformat_minor": 2
}
