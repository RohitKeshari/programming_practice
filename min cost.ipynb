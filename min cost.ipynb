{
 "cells": [
  {
   "cell_type": "markdown",
   "metadata": {},
   "source": [
    "Given a cost matrix cost[][] and a position (m, n) in cost[][], write a function that returns cost of minimum cost path to reach (m, n) from (0, 0). Each cell of the matrix represents a cost to traverse through that cell. Total cost of a path to reach (m, n) is sum of all the costs on that path (including both source and destination). You can only traverse down, right and diagonally lower cells from a given cell, i.e., from a given cell (i, j), cells (i+1, j), (i, j+1) and (i+1, j+1) can be traversed. You may assume that all costs are positive integers."
   ]
  },
  {
   "cell_type": "code",
   "execution_count": null,
   "metadata": {
    "collapsed": true
   },
   "outputs": [],
   "source": []
  },
  {
   "cell_type": "code",
   "execution_count": 4,
   "metadata": {},
   "outputs": [
    {
     "name": "stdout",
     "output_type": "stream",
     "text": [
      "(2,2)\n",
      "(1,1)\n",
      "(0,1)\n",
      "(1,0)\n",
      "(1,2)\n",
      "(0,1)\n",
      "(0,2)\n",
      "(0,1)\n",
      "(1,1)\n",
      "(0,1)\n",
      "(1,0)\n",
      "(2,1)\n",
      "(1,0)\n",
      "(1,1)\n",
      "(0,1)\n",
      "(1,0)\n",
      "(2,0)\n",
      "(1,0)\n",
      "8\n"
     ]
    }
   ],
   "source": [
    "# A Naive recursive implementation of MCP(Minimum Cost Path) problem \n",
    "R = 3\n",
    "C = 3\n",
    "import sys \n",
    "  \n",
    "# Returns cost of minimum cost path from (0,0) to (m, n) in mat[R][C] \n",
    "def minCost(cost, m, n): \n",
    "    if (n < 0 or m < 0): \n",
    "        return sys.maxsize \n",
    "    elif (m == 0 and n == 0):\n",
    "        \n",
    "        return cost[m][n] \n",
    "    else:\n",
    "        #print('(%d,%d)'%(m,n))\n",
    "        return cost[m][n] + min( minCost(cost, m-1, n-1), \n",
    "                                minCost(cost, m-1, n), \n",
    "                                minCost(cost, m, n-1) ) \n",
    "  \n",
    "#A utility function that returns minimum of 3 integers */ \n",
    "def min(x, y, z): \n",
    "    if (x < y): \n",
    "        return x if (x < z) else z \n",
    "    else: \n",
    "        return y if (y < z) else z \n",
    "  \n",
    "  \n",
    "# Driver program to test above functions  \n",
    "cost= [ [1, 2, 3], \n",
    "        [4, 8, 2], \n",
    "        [1, 5, 3] ] \n",
    "print(minCost(cost, 2, 2)) "
   ]
  },
  {
   "cell_type": "markdown",
   "metadata": {},
   "source": [
    "Dynamic Programming Python implementation of Min Cost Path"
   ]
  },
  {
   "cell_type": "code",
   "execution_count": null,
   "metadata": {
    "collapsed": true
   },
   "outputs": [],
   "source": [
    "R = 3\n",
    "C = 3\n",
    "  \n",
    "def minCost(cost, m, n): \n",
    "  \n",
    "    # Instead of following line, we can use int tc[m+1][n+1] or \n",
    "    # dynamically allocate memoery to save space. The following \n",
    "    # line is used to keep te program simple and make it working \n",
    "    # on all compilers. \n",
    "    tc = [[0 for x in range(C)] for x in range(R)] \n",
    "  \n",
    "    tc[0][0] = cost[0][0] \n",
    "  \n",
    "    # Initialize first column of total cost(tc) array \n",
    "    for i in range(1, m+1): \n",
    "        tc[i][0] = tc[i-1][0] + cost[i][0] \n",
    "  \n",
    "    # Initialize first row of tc array \n",
    "    for j in range(1, n+1): \n",
    "        tc[0][j] = tc[0][j-1] + cost[0][j] \n",
    "  \n",
    "    # Construct rest of the tc array \n",
    "    for i in range(1, m+1): \n",
    "        for j in range(1, n+1): \n",
    "            tc[i][j] = min(tc[i-1][j-1], tc[i-1][j], tc[i][j-1]) + cost[i][j] \n",
    "  \n",
    "    return tc[m][n] \n",
    "  \n",
    "# Driver program to test above functions \n",
    "cost = [[1, 2, 3], \n",
    "        [4, 8, 2], \n",
    "        [1, 5, 3]] \n",
    "print(minCost(cost, 2, 2))"
   ]
  },
  {
   "cell_type": "markdown",
   "metadata": {},
   "source": [
    "Minimum Cost Path with Left, Right, Bottom and Up moves allowed"
   ]
  },
  {
   "cell_type": "code",
   "execution_count": 9,
   "metadata": {},
   "outputs": [
    {
     "name": "stdout",
     "output_type": "stream",
     "text": [
      "41\n",
      "54\n",
      "101\n",
      "226\n",
      "54\n",
      "101\n",
      "258\n",
      "232\n",
      "167\n",
      "275\n",
      "269\n",
      "265\n",
      "291\n",
      "316\n",
      "289\n",
      "330\n",
      "[[31, 131, 196, 208, 226], [41, 54, 101, 258, 232], [141, 167, 275, 269, 265], [229, 291, 316, 289, 405], [328, 323, 427, 330, 350]]\n",
      "350\n"
     ]
    }
   ],
   "source": [
    "R = 5\n",
    "C = 5\n",
    "  \n",
    "def minCost(cost, m, n): \n",
    "  \n",
    "    # Instead of following line, we can use int tc[m+1][n+1] or \n",
    "    # dynamically allocate memoery to save space. The following \n",
    "    # line is used to keep te program simple and make it working \n",
    "    # on all compilers. \n",
    "    tc = [[0 for x in range(C)] for x in range(R)] \n",
    "  \n",
    "    tc[0][0] = cost[0][0] \n",
    "  \n",
    "    # Initialize first column of total cost(tc) array \n",
    "    #for i in range(1, m+1): \n",
    "    #    tc[i][0] = tc[i-1][0] + cost[i][0] \n",
    "  \n",
    "    # Initialize first row of tc array \n",
    "    #for j in range(1, n+1): \n",
    "    #    tc[0][j] = tc[0][j-1] + cost[0][j] \n",
    "  \n",
    "    # Construct rest of the tc array \n",
    "    for i in range(1, m+1): \n",
    "        for j in range(1, n+1): \n",
    "            if i==0 and j== 0:\n",
    "                tc[i][j]=cost[i][j]\n",
    "            else:\n",
    "                tc[i][j]=min(cost[i][j],)\n",
    "            #tc[i][j] = min(tc[i-1][j-1], tc[i-1][j], tc[i][j-1]) + cost[i][j]\n",
    "            m_val = min( tc[i-1][j], tc[i][j-1])\n",
    "            print(m_val)\n",
    "            tc[i][j] =  m_val + cost[i][j] \n",
    "    print (tc)\n",
    "    return tc[m][n]\n",
    "\n",
    "def min(x, y): \n",
    "    if (x < y): \n",
    "        return x \n",
    "    else: \n",
    "        return y \n",
    "  \n",
    "# Driver program to test above functions \n",
    "cost = [[31, 100, 65, 12, 18], \n",
    "        [10, 13, 47, 157, 6], \n",
    "        [100, 113, 174, 11, 33],\n",
    "        [88, 124, 41, 20, 140],\n",
    "        [99, 32, 111, 41, 20]] \n",
    "print(minCost(cost, 4, 4))"
   ]
  },
  {
   "cell_type": "code",
   "execution_count": null,
   "metadata": {
    "collapsed": true
   },
   "outputs": [],
   "source": [
    "[[31, 131, 196, 208, 226], \n",
    " [41, 54, 101, 258, 232], \n",
    " [141, 167, 275, 269, 265], \n",
    " [229, 291, 316, 289, 405], \n",
    " [328, 323, 427, 330, 350]]"
   ]
  }
 ],
 "metadata": {
  "kernelspec": {
   "display_name": "Python 2",
   "language": "python",
   "name": "python2"
  },
  "language_info": {
   "codemirror_mode": {
    "name": "ipython",
    "version": 2
   },
   "file_extension": ".py",
   "mimetype": "text/x-python",
   "name": "python",
   "nbconvert_exporter": "python",
   "pygments_lexer": "ipython2",
   "version": "2.7.16"
  }
 },
 "nbformat": 4,
 "nbformat_minor": 2
}
